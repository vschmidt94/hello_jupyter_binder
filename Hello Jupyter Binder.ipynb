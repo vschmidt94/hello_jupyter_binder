{
 "cells": [
  {
   "cell_type": "markdown",
   "metadata": {},
   "source": [
    "# Hello Jupyter Binder\n",
    "\n",
    "In the tradition of Hello World!"
   ]
  },
  {
   "cell_type": "code",
   "execution_count": 9,
   "metadata": {},
   "outputs": [
    {
     "name": "stdout",
     "output_type": "stream",
     "text": [
      "Hello Jupyter Binder!\n"
     ]
    }
   ],
   "source": [
    "msg = \"Hello Jupyter Binder!\"\n",
    "print(msg)"
   ]
  },
  {
   "cell_type": "code",
   "execution_count": 10,
   "metadata": {},
   "outputs": [
    {
     "name": "stdout",
     "output_type": "stream",
     "text": [
      "4\n"
     ]
    }
   ],
   "source": [
    "a = 2\n",
    "b = 2\n",
    "print(a + b)"
   ]
  },
  {
   "cell_type": "markdown",
   "metadata": {},
   "source": [
    "## Try it out !\n",
    "\n",
    "Now you try, in your instance of Jupyter Binder - change the values stored in variables a and b and run the cell!"
   ]
  },
  {
   "cell_type": "markdown",
   "metadata": {},
   "source": [
    "## Now let's try something a little more fun\n",
    "\n",
    "We will access a web API that tells random Chuck Norris jokes.\n",
    "\n",
    "Here's the code, and the response from the internets:"
   ]
  },
  {
   "cell_type": "code",
   "execution_count": 19,
   "metadata": {},
   "outputs": [
    {
     "data": {
      "text/plain": [
       "{'category': ['celebrity'],\n",
       " 'icon_url': 'https://assets.chucknorris.host/img/avatar/chuck-norris.png',\n",
       " 'id': 'qpz0nosttf2slw7l-nonaw',\n",
       " 'url': 'https://api.chucknorris.io/jokes/qpz0nosttf2slw7l-nonaw',\n",
       " 'value': 'In a tagteam match, Chuck Norris was teamed with Hulk Hogan against King Kong Bundy and Andre The Giant. He pinned all 3 at the same time.'}"
      ]
     },
     "execution_count": 19,
     "metadata": {},
     "output_type": "execute_result"
    }
   ],
   "source": [
    "import requests\n",
    "url = 'https://api.chucknorris.io/jokes/random'\n",
    "response = requests.get(url)\n",
    "response.json()"
   ]
  },
  {
   "cell_type": "markdown",
   "metadata": {},
   "source": [
    "Let's back up and step through the 4 lines of code:\n",
    "\n",
    "\n",
    "1. The first line imports the \"requests\" python library - basically a collection code that supports making RESTful web requests. Don't worry too much about REST at the moment. The important thing is understanding this gives us access to some code that we can use to interact with the internet:\n",
    "    ```python\n",
    "    import requests\n",
    "    ```\n",
    "2. Second line defines a string variable we call 'url' that is the address out on the internet where the Chuck Norris API lives:\n",
    "    ```python\n",
    "    url = 'https://api.chucknorris.io/jokes/random'\n",
    "    ```\n",
    "3. Third line makes a GET request to the URL location we give it. A GET request is the same type of request your web browser commonly makes to get information from a web page.  We store whatever the response is in a variable called 'response':\n",
    "    ```python\n",
    "    response = requests.get(url)\n",
    "    ```\n",
    "4. The actual response comes back as a JSON object (don't worry about about what that means right now.) This line basically says \"Show me the JSON!\" and it prints it out:\n",
    "    ```python\n",
    "    response.json()\n",
    "    ```\n",
    "\n",
    "The Out[] block shows us the JSON. It's basically a list of information the Chuck Norris API server sent back to us.\n",
    "\n",
    "Looks like it contains a category, icon_url, id, url, and value.\n",
    "\n",
    "The icon URL appears to point to an image, let's go see what the Chuck Norris Icon image looks like."
   ]
  },
  {
   "cell_type": "code",
   "execution_count": 20,
   "metadata": {},
   "outputs": [
    {
     "data": {
      "text/html": [
       "<img src=\"https://assets.chucknorris.host/img/avatar/chuck-norris.png\"/>"
      ],
      "text/plain": [
       "<IPython.core.display.Image object>"
      ]
     },
     "execution_count": 20,
     "metadata": {},
     "output_type": "execute_result"
    }
   ],
   "source": [
    "from IPython.display import Image\n",
    "from IPython.core.display import HTML\n",
    "Image(url=response.json()['icon_url'])"
   ]
  },
  {
   "cell_type": "code",
   "execution_count": 21,
   "metadata": {},
   "outputs": [
    {
     "data": {
      "text/plain": [
       "'In a tagteam match, Chuck Norris was teamed with Hulk Hogan against King Kong Bundy and Andre The Giant. He pinned all 3 at the same time.'"
      ]
     },
     "execution_count": 21,
     "metadata": {},
     "output_type": "execute_result"
    }
   ],
   "source": [
    "response.json()['value']"
   ]
  },
  {
   "cell_type": "code",
   "execution_count": null,
   "metadata": {
    "collapsed": true
   },
   "outputs": [],
   "source": []
  }
 ],
 "metadata": {
  "kernelspec": {
   "display_name": "Python 3",
   "language": "python",
   "name": "python3"
  },
  "language_info": {
   "codemirror_mode": {
    "name": "ipython",
    "version": 3
   },
   "file_extension": ".py",
   "mimetype": "text/x-python",
   "name": "python",
   "nbconvert_exporter": "python",
   "pygments_lexer": "ipython3",
   "version": "3.6.3"
  }
 },
 "nbformat": 4,
 "nbformat_minor": 2
}
